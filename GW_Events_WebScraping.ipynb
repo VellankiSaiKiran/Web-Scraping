{
  "nbformat": 4,
  "nbformat_minor": 0,
  "metadata": {
    "colab": {
      "provenance": [],
      "toc_visible": true
    },
    "kernelspec": {
      "name": "python3",
      "display_name": "Python 3"
    },
    "language_info": {
      "name": "python"
    }
  },
  "cells": [
    {
      "cell_type": "markdown",
      "source": [
        "## 📅 GWU Events Scraper Challenge 📅\n"
      ],
      "metadata": {
        "id": "5SHsyfC6rWwq"
      }
    },
    {
      "cell_type": "code",
      "source": [
        "from requests.models import Response\n",
        "from bs4 import BeautifulSoup\n",
        "import requests\n",
        "import pandas as pd\n",
        "pd.set_option('display.max_columns', None)\n",
        "from IPython.display import display, Image\n",
        "EVENTS_PAGE_URL = \"https://calendar.gwu.edu/calendar\"\n",
        "\n",
        "response = requests.get(EVENTS_PAGE_URL)\n",
        "\n",
        "if response.status_code == 200:\n",
        "    html_content = response.text\n",
        "else:\n",
        "    print(f\"Failed to retrieve the webpage. HTTP Status Code: {response.status_code}\")\n",
        "\n",
        "soup = BeautifulSoup(html_content, 'html.parser')\n"
      ],
      "metadata": {
        "id": "PVaFL1kg-1I9"
      },
      "execution_count": null,
      "outputs": []
    },
    {
      "cell_type": "code",
      "source": [],
      "metadata": {
        "id": "nI0ZZsWeCye6"
      },
      "execution_count": null,
      "outputs": []
    },
    {
      "cell_type": "code",
      "execution_count": null,
      "metadata": {
        "id": "CFBlg22e-qnD"
      },
      "outputs": [],
      "source": [
        "eventsraw = soup.find_all('div', class_=lambda x: x and x.startswith('em-card '))\n",
        "raw_events_list = []\n",
        "#count = 0\n",
        "\n",
        "\n",
        "for event in eventsraw:\n",
        "\n",
        "    img_container = event.find('div', class_='em-card_image')\n",
        "    img_src = img_container.find('img', class_='img_card')['src'] if img_container else None\n",
        "\n",
        "\n",
        "    text_container = event.find('div', class_='em-card_text')\n",
        "    title = text_container.find('h3', class_='em-card_title').text if text_container else None\n",
        "    event_texts = text_container.find_all('p', class_='em-card_event-text') if text_container else None\n",
        "    date_info = event_texts[0].text if event_texts and len(event_texts) > 0 else None\n",
        "    location = event_texts[1].text if event_texts and len(event_texts) > 1 else None\n",
        "\n",
        "\n",
        "    tags_container = text_container.find('div', class_='em-list_tags') if text_container else None\n",
        "    tags = tags_container.find_all('a', class_='em-card_tag') if tags_container else None\n",
        "\n",
        "    if tags:\n",
        "        primary_event_type = [tag.text for tag in tags if tag.text][0]\n",
        "    else:\n",
        "        primary_event_type = None\n",
        "\n",
        "    raw_events_list.append({\n",
        "        \"Title\": title,\n",
        "        \"Date Info\": date_info,\n",
        "        \"Location\": location,\n",
        "        \"Image\": img_src,\n",
        "        \"Primary Event Type\": primary_event_type\n",
        "    })\n"
      ]
    },
    {
      "cell_type": "code",
      "source": [
        "events = []\n",
        "\n",
        "for event in raw_events_list:\n",
        "    cleaned_event = {key: value.replace('\\n', ' ').strip() if isinstance(value, str) else value for key, value in event.items()}\n",
        "    events.append(cleaned_event)\n",
        "\n",
        "\n",
        "for event in events:\n",
        "  print(f\"Title: {event['Title']}\")\n",
        "  print(f\"Date: {event['Date Info']}\")\n",
        "  print(f\"Location: {event['Location']}\")\n",
        "  if event[\"Image\"]:\n",
        "    display(Image(url=event[\"Image\"], height = 90, width = 90))\n",
        "  print(f\"Event Type: {event['Primary Event Type']}\")\n",
        "  print(\"************************************************************\")\n"
      ],
      "metadata": {
        "id": "GgMyuvP1prJv",
        "colab": {
          "base_uri": "https://localhost:8080/",
          "height": 1000
        },
        "outputId": "5e48baa3-bfe7-4fbb-e5ff-c66054a734fd"
      },
      "execution_count": null,
      "outputs": [
        {
          "output_type": "stream",
          "name": "stdout",
          "text": [
            "Title: The Art of Collecting: Gifts from the Luther W. Brady Estate\n",
            "Date: Wed, Oct 11, 2023\n",
            "Location: Luther W. Brady Art Gallery\n"
          ]
        },
        {
          "output_type": "display_data",
          "data": {
            "text/html": [
              "<img src=\"https://localist-images.azureedge.net/photos/44341505834705/card/b9f183a9c3d0df33dc15e5a15eb2e8a567ae99fd.jpg\" width=\"90\" height=\"90\"/>"
            ],
            "text/plain": [
              "<IPython.core.display.Image object>"
            ]
          },
          "metadata": {}
        },
        {
          "output_type": "stream",
          "name": "stdout",
          "text": [
            "Event Type: Exhibition\n",
            "************************************************************\n",
            "Title: next NEXT_\n",
            "Date: Wed, Oct 11, 2023\n",
            "Location: Flagg Building, Student Lounge & Gallery 7\n"
          ]
        },
        {
          "output_type": "display_data",
          "data": {
            "text/html": [
              "<img src=\"https://localist-images.azureedge.net/photos/44145241617027/card/25967ccb4ab3fc22625fd6aab4467f5e3a727c70.jpg\" width=\"90\" height=\"90\"/>"
            ],
            "text/plain": [
              "<IPython.core.display.Image object>"
            ]
          },
          "metadata": {}
        },
        {
          "output_type": "stream",
          "name": "stdout",
          "text": [
            "Event Type: Arts & Culture\n",
            "************************************************************\n",
            "Title: Alumni in Finance & Real Estate: Industry Networking Breakfast (NYC)\n",
            "Date: Wed, Oct 11, 2023 8:30am to 9:30am\n",
            "Location: None\n"
          ]
        },
        {
          "output_type": "display_data",
          "data": {
            "text/html": [
              "<img src=\"https://localist-images.azureedge.net/photos/42241821362097/card/2df672dda2dbd1ddc52531f98842065734b9455a.jpg\" width=\"90\" height=\"90\"/>"
            ],
            "text/plain": [
              "<IPython.core.display.Image object>"
            ]
          },
          "metadata": {}
        },
        {
          "output_type": "stream",
          "name": "stdout",
          "text": [
            "Event Type: Alumni\n",
            "************************************************************\n",
            "Title: GWSB MS in Information Systems Technology  Information Session & Webinar\n",
            "Date: Wed, Oct 11, 2023 9am to 9:30am\n",
            "Location: Virtual Event\n"
          ]
        },
        {
          "output_type": "display_data",
          "data": {
            "text/html": [
              "<img src=\"https://localist-images.azureedge.net/photos/44375430227270/card/83089f8cfffb5202525364b202ec18e0dfc9a780.jpg\" width=\"90\" height=\"90\"/>"
            ],
            "text/plain": [
              "<IPython.core.display.Image object>"
            ]
          },
          "metadata": {}
        },
        {
          "output_type": "stream",
          "name": "stdout",
          "text": [
            "Event Type: Admissions\n",
            "************************************************************\n",
            "Title: Anne Lindberg: what color is divine light?\n",
            "Date: Wed, Oct 11, 2023 10am to 5pm\n",
            "Location: The George Washington Museum and the Textile Museum\n"
          ]
        },
        {
          "output_type": "display_data",
          "data": {
            "text/html": [
              "<img src=\"https://localist-images.azureedge.net/photos/42118325116114/card/4da031cb790aac350a55b587ee9d90ff88c130c7.jpg\" width=\"90\" height=\"90\"/>"
            ],
            "text/plain": [
              "<IPython.core.display.Image object>"
            ]
          },
          "metadata": {}
        },
        {
          "output_type": "stream",
          "name": "stdout",
          "text": [
            "Event Type: Arts & Culture\n",
            "************************************************************\n",
            "Title: Classical Washington\n",
            "Date: Wed, Oct 11, 2023 10am to 5pm\n",
            "Location: The George Washington Museum and the Textile Museum\n"
          ]
        },
        {
          "output_type": "display_data",
          "data": {
            "text/html": [
              "<img src=\"https://localist-images.azureedge.net/photos/43535881455949/card/0f99f12983022726298d8ec3c46b4bda8ffa7744.jpg\" width=\"90\" height=\"90\"/>"
            ],
            "text/plain": [
              "<IPython.core.display.Image object>"
            ]
          },
          "metadata": {}
        },
        {
          "output_type": "stream",
          "name": "stdout",
          "text": [
            "Event Type: Arts & Culture\n",
            "************************************************************\n",
            "Title: Handstitched Worlds: The Cartography of Quilts\n",
            "Date: Wed, Oct 11, 2023 10am to 5pm\n",
            "Location: The George Washington Museum and the Textile Museum\n"
          ]
        },
        {
          "output_type": "display_data",
          "data": {
            "text/html": [
              "<img src=\"https://localist-images.azureedge.net/photos/44435982865361/card/6884bb6714f5645aba633df951757d2deec6588d.jpg\" width=\"90\" height=\"90\"/>"
            ],
            "text/plain": [
              "<IPython.core.display.Image object>"
            ]
          },
          "metadata": {}
        },
        {
          "output_type": "stream",
          "name": "stdout",
          "text": [
            "Event Type: Arts & Culture\n",
            "************************************************************\n",
            "Title: The New Naval and Military Map of the United States\n",
            "Date: Wed, Oct 11, 2023 10am to 5pm\n",
            "Location: The George Washington Museum and the Textile Museum\n"
          ]
        },
        {
          "output_type": "display_data",
          "data": {
            "text/html": [
              "<img src=\"https://localist-images.azureedge.net/photos/43570487835771/card/fdeec78cbfcf7187fe87d06c1ae29bfbb2bfe5de.jpg\" width=\"90\" height=\"90\"/>"
            ],
            "text/plain": [
              "<IPython.core.display.Image object>"
            ]
          },
          "metadata": {}
        },
        {
          "output_type": "stream",
          "name": "stdout",
          "text": [
            "Event Type: Arts & Culture\n",
            "************************************************************\n",
            "Title: From Spark to Impact: Promoting and Enabling Research with the Libraries and Academic Innovation Team\n",
            "Date: Wed, Oct 11, 2023 11am to 12pm\n",
            "Location: Gelman Library, Room 608\n"
          ]
        },
        {
          "output_type": "display_data",
          "data": {
            "text/html": [
              "<img src=\"https://localist-images.azureedge.net/photos/44378798413071/card/bbc500a9950cde458ee04eba98277d3fdad34642.jpg\" width=\"90\" height=\"90\"/>"
            ],
            "text/plain": [
              "<IPython.core.display.Image object>"
            ]
          },
          "metadata": {}
        },
        {
          "output_type": "stream",
          "name": "stdout",
          "text": [
            "Event Type: Research\n",
            "************************************************************\n",
            "Title: GWSB MS in Project Management Information Session & Webinar\n",
            "Date: Wed, Oct 11, 2023 12pm to 12:30pm\n",
            "Location: Virtual Event\n"
          ]
        },
        {
          "output_type": "display_data",
          "data": {
            "text/html": [
              "<img src=\"https://localist-images.azureedge.net/photos/44375907164997/card/9c762f09bd8ea05d90f7f8e87889cf3ff782c454.jpg\" width=\"90\" height=\"90\"/>"
            ],
            "text/plain": [
              "<IPython.core.display.Image object>"
            ]
          },
          "metadata": {}
        },
        {
          "output_type": "stream",
          "name": "stdout",
          "text": [
            "Event Type: Admissions\n",
            "************************************************************\n",
            "Title: International Education (Master's) - Virtual Information Session\n",
            "Date: Wed, Oct 11, 2023 12pm to 1pm\n",
            "Location: Virtual Event\n"
          ]
        },
        {
          "output_type": "display_data",
          "data": {
            "text/html": [
              "<img src=\"https://localist-images.azureedge.net/photos/43669583116057/card/45daaa0a4147b6701146c4b7ac4cab8f190f3919.jpg\" width=\"90\" height=\"90\"/>"
            ],
            "text/plain": [
              "<IPython.core.display.Image object>"
            ]
          },
          "metadata": {}
        },
        {
          "output_type": "stream",
          "name": "stdout",
          "text": [
            "Event Type: Admissions\n",
            "************************************************************\n",
            "Title: Bloomberg Industry Group Careers Panel\n",
            "Date: Wed, Oct 11, 2023 12:30pm to 2pm\n",
            "Location: Law School, Tasher Great Room\n"
          ]
        },
        {
          "output_type": "display_data",
          "data": {
            "text/html": [
              "<img src=\"https://localist-images.azureedge.net/photos/44315096189754/card/97406acb330d12f9f5198c7986ba644bcef9c6ca.jpg\" width=\"90\" height=\"90\"/>"
            ],
            "text/plain": [
              "<IPython.core.display.Image object>"
            ]
          },
          "metadata": {}
        },
        {
          "output_type": "stream",
          "name": "stdout",
          "text": [
            "Event Type: Career & Professional Development\n",
            "************************************************************\n",
            "Title: From Spark to Impact: Software Systems for Researchers with Proposals and Awards\n",
            "Date: Wed, Oct 11, 2023 1pm to 2pm\n",
            "Location: Rome Hall (Academic Center), Room 206\n"
          ]
        },
        {
          "output_type": "display_data",
          "data": {
            "text/html": [
              "<img src=\"https://localist-images.azureedge.net/photos/44378798413071/card/bbc500a9950cde458ee04eba98277d3fdad34642.jpg\" width=\"90\" height=\"90\"/>"
            ],
            "text/plain": [
              "<IPython.core.display.Image object>"
            ]
          },
          "metadata": {}
        },
        {
          "output_type": "stream",
          "name": "stdout",
          "text": [
            "Event Type: Research\n",
            "************************************************************\n",
            "Title: GW Collection / Corcoran Faculty Selection\n",
            "Date: Wed, Oct 11, 2023 1pm to 5pm\n",
            "Location: Flagg Building, Gallery 6\n"
          ]
        },
        {
          "output_type": "display_data",
          "data": {
            "text/html": [
              "<img src=\"https://localist-images.azureedge.net/photos/44341301567849/card/a2e4a13aac50d85135e9e26f60299dfc0964d13b.jpg\" width=\"90\" height=\"90\"/>"
            ],
            "text/plain": [
              "<IPython.core.display.Image object>"
            ]
          },
          "metadata": {}
        },
        {
          "output_type": "stream",
          "name": "stdout",
          "text": [
            "Event Type: Exhibition\n",
            "************************************************************\n",
            "Title: Global Reflections: A Virtual Group Processing Space\n",
            "Date: Wed, Oct 11, 2023 1pm to 2:30pm\n",
            "Location: Online\n"
          ]
        },
        {
          "output_type": "display_data",
          "data": {
            "text/html": [
              "<img src=\"https://localist-images.azureedge.net/photos/44514486635712/card/917664f9b499aafd3446aec08a04ff842c21977c.jpg\" width=\"90\" height=\"90\"/>"
            ],
            "text/plain": [
              "<IPython.core.display.Image object>"
            ]
          },
          "metadata": {}
        },
        {
          "output_type": "stream",
          "name": "stdout",
          "text": [
            "Event Type: Student Life\n",
            "************************************************************\n",
            "Title: Too Good to Be True? Beware of Job Offer Scams!\n",
            "Date: Wed, Oct 11, 2023 2pm\n",
            "Location: Virtual Event\n"
          ]
        },
        {
          "output_type": "display_data",
          "data": {
            "text/html": [
              "<img src=\"https://localist-images.azureedge.net/photos/44401078728662/card/7a4da81f1e782060a54f95b084ff7230af026160.jpg\" width=\"90\" height=\"90\"/>"
            ],
            "text/plain": [
              "<IPython.core.display.Image object>"
            ]
          },
          "metadata": {}
        },
        {
          "output_type": "stream",
          "name": "stdout",
          "text": [
            "Event Type: Info Session\n",
            "************************************************************\n",
            "Title: Dr. Sharon Murphy Book Talk\n",
            "Date: Wed, Oct 11, 2023 2:30pm to 4pm\n",
            "Location: None\n"
          ]
        },
        {
          "output_type": "display_data",
          "data": {
            "text/html": [
              "<img src=\"https://localist-images.azureedge.net/photos/44447575267858/card/0a3250bd3f07a67c2c4b02bf39dfe7ee968cbc8c.jpg\" width=\"90\" height=\"90\"/>"
            ],
            "text/plain": [
              "<IPython.core.display.Image object>"
            ]
          },
          "metadata": {}
        },
        {
          "output_type": "stream",
          "name": "stdout",
          "text": [
            "Event Type: None\n",
            "************************************************************\n",
            "Title: Macro-International Seminar: Tony Zhang, Federal Reserve\n",
            "Date: Wed, Oct 11, 2023 2:30pm to 4pm\n",
            "Location: Hall of Government, 321\n"
          ]
        },
        {
          "output_type": "display_data",
          "data": {
            "text/html": [
              "<img src=\"https://localist-images.azureedge.net/photos/44445628790768/card/c0f27330978efda9dcdde85742df6e2f1859f9df.jpg\" width=\"90\" height=\"90\"/>"
            ],
            "text/plain": [
              "<IPython.core.display.Image object>"
            ]
          },
          "metadata": {}
        },
        {
          "output_type": "stream",
          "name": "stdout",
          "text": [
            "Event Type: Academic\n",
            "************************************************************\n",
            "Title: Accessibility On Campus Discussion\n",
            "Date: Wed, Oct 11, 2023 3pm to 4pm\n",
            "Location: Online\n"
          ]
        },
        {
          "output_type": "display_data",
          "data": {
            "text/html": [
              "<img src=\"https://localist-images.azureedge.net/photos/44505599425100/card/72013548cf584917e52c3e5e93746cd0c4b0b13b.jpg\" width=\"90\" height=\"90\"/>"
            ],
            "text/plain": [
              "<IPython.core.display.Image object>"
            ]
          },
          "metadata": {}
        },
        {
          "output_type": "stream",
          "name": "stdout",
          "text": [
            "Event Type: Student Life\n",
            "************************************************************\n",
            "Title: Collaborative Reform Conference -- Effective Law Enforcement for All\n",
            "Date: Wed, Oct 11, 2023 3pm to 7:30am\n",
            "Location: Elliott School of International Affairs, GW University, City View Room\n"
          ]
        },
        {
          "output_type": "display_data",
          "data": {
            "text/html": [
              "<img src=\"https://localist-images.azureedge.net/photos/44482989914087/card/b0bc18815d190ef6accbac6b9994acfd9e3c705e.jpg\" width=\"90\" height=\"90\"/>"
            ],
            "text/plain": [
              "<IPython.core.display.Image object>"
            ]
          },
          "metadata": {}
        },
        {
          "output_type": "stream",
          "name": "stdout",
          "text": [
            "Event Type: Lectures & Speakers\n",
            "************************************************************\n",
            "Title: Inequality and the Crisis of Liberal Democracy\n",
            "Date: Wed, Oct 11, 2023 4pm to 5pm\n",
            "Location: 1957 E Street NW, 412Q\n"
          ]
        },
        {
          "output_type": "display_data",
          "data": {
            "text/html": [
              "<img src=\"https://localist-images.azureedge.net/photos/44393839734790/card/f3ae5987934b95bbb500aa580d4585341df27902.jpg\" width=\"90\" height=\"90\"/>"
            ],
            "text/plain": [
              "<IPython.core.display.Image object>"
            ]
          },
          "metadata": {}
        },
        {
          "output_type": "stream",
          "name": "stdout",
          "text": [
            "Event Type: Lectures & Speakers\n",
            "************************************************************\n"
          ]
        }
      ]
    },
    {
      "cell_type": "code",
      "source": [],
      "metadata": {
        "id": "qIzXWpBDUPbz"
      },
      "execution_count": null,
      "outputs": []
    },
    {
      "cell_type": "code",
      "source": [
        "for event in events:\n",
        "    date_info = event.get('Date Info', '')\n",
        "\n",
        "    for i in range(len(date_info) - 3):\n",
        "        if date_info[i:i+4].isdigit():\n",
        "\n",
        "            if date_info[i+4:i+5] != ',':\n",
        "\n",
        "                new_date_info = date_info[:i+4] + ',' + date_info[i+4:]\n",
        "                event['Date Info'] = new_date_info\n",
        "            break\n"
      ],
      "metadata": {
        "id": "ku8dSnsNWAW0"
      },
      "execution_count": null,
      "outputs": []
    },
    {
      "cell_type": "code",
      "source": [
        "import re\n",
        "\n",
        "for event in events:\n",
        "    date_info = event.get('Date Info', '')\n",
        "\n",
        "\n",
        "    match = re.match(r'(?P<day>\\w+),\\s(?P<month>\\w+)\\s(?P<date>\\d+),\\s(?P<year>\\d+)(?:,\\s)?(?P<time>.+)?', date_info)\n",
        "\n",
        "    if match:\n",
        "        day_of_week = match.group('day')\n",
        "        month = match.group('month')\n",
        "        date = match.group('date')\n",
        "        year = match.group('year')\n",
        "\n",
        "\n",
        "        month_dict = {'Jan': '01', 'Feb': '02', 'Mar': '03', 'Apr': '04', 'May': '05', 'Jun': '06', 'Jul': '07', 'Aug': '08', 'Sep': '09', 'Oct': '10', 'Nov': '11', 'Dec': '12'}\n",
        "        numeric_month = month_dict.get(month[:3])\n",
        "\n",
        "        formatted_date = f\"{year}-{numeric_month}-{date.zfill(2)}\"\n",
        "\n",
        "\n",
        "        time_info = match.group('time') or ''\n",
        "        if \"to\" in time_info:\n",
        "            start_time, end_time = [t.strip() for t in time_info.split(\"to\")]\n",
        "        elif time_info and time_info != ',': # Only start time is available and ensure it's not just a comma\n",
        "            start_time = time_info.strip()\n",
        "            end_time = None\n",
        "        else:\n",
        "            start_time = end_time = None\n",
        "\n",
        "\n",
        "        event['Date'] = formatted_date\n",
        "        event['Day of Week'] = day_of_week\n",
        "        event['Start Time'] = start_time\n",
        "        event['End Time'] = end_time\n",
        "\n",
        "\n"
      ],
      "metadata": {
        "id": "tMd3tyyNvGDe"
      },
      "execution_count": null,
      "outputs": []
    },
    {
      "cell_type": "code",
      "source": [
        "\n",
        "events_df = pd.DataFrame(events)\n",
        "\n",
        "pd.set_option('display.width', 1000)\n",
        "\n",
        "print(events_df)"
      ],
      "metadata": {
        "colab": {
          "base_uri": "https://localhost:8080/"
        },
        "id": "5EC0rvdLWASJ",
        "outputId": "65bda3ee-fb08-42a1-8b40-d2d4c9b69537"
      },
      "execution_count": null,
      "outputs": [
        {
          "output_type": "stream",
          "name": "stdout",
          "text": [
            "                                                Title                            Date Info                                           Location                                              Image                 Primary Event Type        Date Day of Week Start Time End Time\n",
            "0   The Art of Collecting: Gifts from the Luther W...                   Wed, Oct 11, 2023,                        Luther W. Brady Art Gallery  https://localist-images.azureedge.net/photos/4...                         Exhibition  2023-10-11         Wed       None     None\n",
            "1                                          next NEXT_                   Wed, Oct 11, 2023,         Flagg Building, Student Lounge & Gallery 7  https://localist-images.azureedge.net/photos/4...                     Arts & Culture  2023-10-11         Wed       None     None\n",
            "2   Alumni in Finance & Real Estate: Industry Netw...  Wed, Oct 11, 2023, 8:30am to 9:30am                                               None  https://localist-images.azureedge.net/photos/4...                             Alumni  2023-10-11         Wed     8:30am   9:30am\n",
            "3   GWSB MS in Information Systems Technology  Inf...     Wed, Oct 11, 2023, 9am to 9:30am                                      Virtual Event  https://localist-images.azureedge.net/photos/4...                         Admissions  2023-10-11         Wed        9am   9:30am\n",
            "4          Anne Lindberg: what color is divine light?       Wed, Oct 11, 2023, 10am to 5pm  The George Washington Museum and the Textile M...  https://localist-images.azureedge.net/photos/4...                     Arts & Culture  2023-10-11         Wed       10am      5pm\n",
            "5                                Classical Washington       Wed, Oct 11, 2023, 10am to 5pm  The George Washington Museum and the Textile M...  https://localist-images.azureedge.net/photos/4...                     Arts & Culture  2023-10-11         Wed       10am      5pm\n",
            "6      Handstitched Worlds: The Cartography of Quilts       Wed, Oct 11, 2023, 10am to 5pm  The George Washington Museum and the Textile M...  https://localist-images.azureedge.net/photos/4...                     Arts & Culture  2023-10-11         Wed       10am      5pm\n",
            "7   The New Naval and Military Map of the United S...       Wed, Oct 11, 2023, 10am to 5pm  The George Washington Museum and the Textile M...  https://localist-images.azureedge.net/photos/4...                     Arts & Culture  2023-10-11         Wed       10am      5pm\n",
            "8   From Spark to Impact: Promoting and Enabling R...      Wed, Oct 11, 2023, 11am to 12pm                           Gelman Library, Room 608  https://localist-images.azureedge.net/photos/4...                           Research  2023-10-11         Wed       11am     12pm\n",
            "9   GWSB MS in Project Management Information Sess...   Wed, Oct 11, 2023, 12pm to 12:30pm                                      Virtual Event  https://localist-images.azureedge.net/photos/4...                         Admissions  2023-10-11         Wed       12pm  12:30pm\n",
            "10  International Education (Master's) - Virtual I...       Wed, Oct 11, 2023, 12pm to 1pm                                      Virtual Event  https://localist-images.azureedge.net/photos/4...                         Admissions  2023-10-11         Wed       12pm      1pm\n",
            "11             Bloomberg Industry Group Careers Panel    Wed, Oct 11, 2023, 12:30pm to 2pm                      Law School, Tasher Great Room  https://localist-images.azureedge.net/photos/4...  Career & Professional Development  2023-10-11         Wed    12:30pm      2pm\n",
            "12  From Spark to Impact: Software Systems for Res...        Wed, Oct 11, 2023, 1pm to 2pm              Rome Hall (Academic Center), Room 206  https://localist-images.azureedge.net/photos/4...                           Research  2023-10-11         Wed        1pm      2pm\n",
            "13         GW Collection / Corcoran Faculty Selection        Wed, Oct 11, 2023, 1pm to 5pm                          Flagg Building, Gallery 6  https://localist-images.azureedge.net/photos/4...                         Exhibition  2023-10-11         Wed        1pm      5pm\n",
            "14  Global Reflections: A Virtual Group Processing...     Wed, Oct 11, 2023, 1pm to 2:30pm                                             Online  https://localist-images.azureedge.net/photos/4...                       Student Life  2023-10-11         Wed        1pm   2:30pm\n",
            "15    Too Good to Be True? Beware of Job Offer Scams!               Wed, Oct 11, 2023, 2pm                                      Virtual Event  https://localist-images.azureedge.net/photos/4...                       Info Session  2023-10-11         Wed        2pm     None\n",
            "16                        Dr. Sharon Murphy Book Talk     Wed, Oct 11, 2023, 2:30pm to 4pm                                               None  https://localist-images.azureedge.net/photos/4...                               None  2023-10-11         Wed     2:30pm      4pm\n",
            "17  Macro-International Seminar: Tony Zhang, Feder...     Wed, Oct 11, 2023, 2:30pm to 4pm                            Hall of Government, 321  https://localist-images.azureedge.net/photos/4...                           Academic  2023-10-11         Wed     2:30pm      4pm\n",
            "18                 Accessibility On Campus Discussion        Wed, Oct 11, 2023, 3pm to 4pm                                             Online  https://localist-images.azureedge.net/photos/4...                       Student Life  2023-10-11         Wed        3pm      4pm\n",
            "19  Collaborative Reform Conference -- Effective L...     Wed, Oct 11, 2023, 3pm to 7:30am  Elliott School of International Affairs, GW Un...  https://localist-images.azureedge.net/photos/4...                Lectures & Speakers  2023-10-11         Wed        3pm   7:30am\n",
            "20     Inequality and the Crisis of Liberal Democracy        Wed, Oct 11, 2023, 4pm to 5pm                             1957 E Street NW, 412Q  https://localist-images.azureedge.net/photos/4...                Lectures & Speakers  2023-10-11         Wed        4pm      5pm\n"
          ]
        }
      ]
    },
    {
      "cell_type": "code",
      "source": [
        "print(\"Column Names:\", events_df.columns)\n"
      ],
      "metadata": {
        "id": "a_TtuW9r2O40",
        "colab": {
          "base_uri": "https://localhost:8080/"
        },
        "outputId": "715de1fc-7f96-4672-a733-8df5a48703de"
      },
      "execution_count": null,
      "outputs": [
        {
          "output_type": "stream",
          "name": "stdout",
          "text": [
            "Column Names: Index(['Title', 'Date Info', 'Location', 'Image', 'Primary Event Type', 'Date', 'Day of Week', 'Start Time', 'End Time'], dtype='object')\n"
          ]
        }
      ]
    },
    {
      "cell_type": "code",
      "source": [
        "\n",
        "print(\"\\nNumber of Rows:\", len(events_df))\n"
      ],
      "metadata": {
        "id": "tO8KPZNupthS",
        "colab": {
          "base_uri": "https://localhost:8080/"
        },
        "outputId": "6527f743-c7f2-490b-d354-7f898eee1013"
      },
      "execution_count": null,
      "outputs": [
        {
          "output_type": "stream",
          "name": "stdout",
          "text": [
            "\n",
            "Number of Rows: 21\n"
          ]
        }
      ]
    },
    {
      "cell_type": "code",
      "source": [
        "print(\"\\nFirst Few Rows:\")\n",
        "print(events_df.head())\n"
      ],
      "metadata": {
        "id": "Z1_gAlTc-9Cg",
        "colab": {
          "base_uri": "https://localhost:8080/"
        },
        "outputId": "fcb63f7a-329d-49e3-b102-b289d9810f86"
      },
      "execution_count": null,
      "outputs": [
        {
          "output_type": "stream",
          "name": "stdout",
          "text": [
            "\n",
            "First Few Rows:\n",
            "                                               Title                            Date Info                                           Location                                              Image Primary Event Type        Date Day of Week Start Time End Time\n",
            "0  The Art of Collecting: Gifts from the Luther W...                   Wed, Oct 11, 2023,                        Luther W. Brady Art Gallery  https://localist-images.azureedge.net/photos/4...         Exhibition  2023-10-11         Wed       None     None\n",
            "1                                         next NEXT_                   Wed, Oct 11, 2023,         Flagg Building, Student Lounge & Gallery 7  https://localist-images.azureedge.net/photos/4...     Arts & Culture  2023-10-11         Wed       None     None\n",
            "2  Alumni in Finance & Real Estate: Industry Netw...  Wed, Oct 11, 2023, 8:30am to 9:30am                                               None  https://localist-images.azureedge.net/photos/4...             Alumni  2023-10-11         Wed     8:30am   9:30am\n",
            "3  GWSB MS in Information Systems Technology  Inf...     Wed, Oct 11, 2023, 9am to 9:30am                                      Virtual Event  https://localist-images.azureedge.net/photos/4...         Admissions  2023-10-11         Wed        9am   9:30am\n",
            "4         Anne Lindberg: what color is divine light?       Wed, Oct 11, 2023, 10am to 5pm  The George Washington Museum and the Textile M...  https://localist-images.azureedge.net/photos/4...     Arts & Culture  2023-10-11         Wed       10am      5pm\n"
          ]
        }
      ]
    },
    {
      "cell_type": "code",
      "source": [],
      "metadata": {
        "id": "CQh1tcySKddg"
      },
      "execution_count": null,
      "outputs": []
    },
    {
      "cell_type": "code",
      "source": [
        "from datetime import datetime\n",
        "\n",
        "\n",
        "def convert_time(t):\n",
        "    if t:\n",
        "        try:\n",
        "            return datetime.strptime(t, '%I:%M%p').time()\n",
        "        except ValueError:\n",
        "            return datetime.strptime(t, '%I%p').time()\n",
        "    return None\n",
        "\n",
        "\n",
        "events_df_copy = events_df.copy()\n",
        "\n",
        "events_df_copy['Start Time'] = events_df_copy['Start Time'].apply(convert_time)\n",
        "events_df_copy['End Time'] = events_df_copy['End Time'].apply(convert_time)\n",
        "\n",
        "earliest_start = min(filter(None, events_df_copy['Start Time']))\n",
        "latest_end = max(filter(None, events_df_copy['End Time']))\n",
        "\n",
        "print(\"Earliest Start Time:\", earliest_start)\n",
        "print(\"Latest End Time:\", latest_end)\n",
        "\n"
      ],
      "metadata": {
        "colab": {
          "base_uri": "https://localhost:8080/"
        },
        "id": "5kzKTWZ1KdbQ",
        "outputId": "7fb530b0-9cb4-449b-b108-f6176921edfd"
      },
      "execution_count": null,
      "outputs": [
        {
          "output_type": "stream",
          "name": "stdout",
          "text": [
            "Earliest Start Time: 08:30:00\n",
            "Latest End Time: 17:00:00\n"
          ]
        }
      ]
    },
    {
      "cell_type": "code",
      "source": [
        "from google.colab import files\n",
        "import pandas as pd\n",
        "\n",
        "events_df.to_csv('events.csv', index=False)\n",
        "\n",
        "files.download('events.csv')\n"
      ],
      "metadata": {
        "colab": {
          "base_uri": "https://localhost:8080/",
          "height": 17
        },
        "id": "6qUB9ZTkKdYt",
        "outputId": "efc74e03-c709-424a-ecfb-b8328a46cf24"
      },
      "execution_count": null,
      "outputs": [
        {
          "output_type": "display_data",
          "data": {
            "text/plain": [
              "<IPython.core.display.Javascript object>"
            ],
            "application/javascript": [
              "\n",
              "    async function download(id, filename, size) {\n",
              "      if (!google.colab.kernel.accessAllowed) {\n",
              "        return;\n",
              "      }\n",
              "      const div = document.createElement('div');\n",
              "      const label = document.createElement('label');\n",
              "      label.textContent = `Downloading \"${filename}\": `;\n",
              "      div.appendChild(label);\n",
              "      const progress = document.createElement('progress');\n",
              "      progress.max = size;\n",
              "      div.appendChild(progress);\n",
              "      document.body.appendChild(div);\n",
              "\n",
              "      const buffers = [];\n",
              "      let downloaded = 0;\n",
              "\n",
              "      const channel = await google.colab.kernel.comms.open(id);\n",
              "      // Send a message to notify the kernel that we're ready.\n",
              "      channel.send({})\n",
              "\n",
              "      for await (const message of channel.messages) {\n",
              "        // Send a message to notify the kernel that we're ready.\n",
              "        channel.send({})\n",
              "        if (message.buffers) {\n",
              "          for (const buffer of message.buffers) {\n",
              "            buffers.push(buffer);\n",
              "            downloaded += buffer.byteLength;\n",
              "            progress.value = downloaded;\n",
              "          }\n",
              "        }\n",
              "      }\n",
              "      const blob = new Blob(buffers, {type: 'application/binary'});\n",
              "      const a = document.createElement('a');\n",
              "      a.href = window.URL.createObjectURL(blob);\n",
              "      a.download = filename;\n",
              "      div.appendChild(a);\n",
              "      a.click();\n",
              "      div.remove();\n",
              "    }\n",
              "  "
            ]
          },
          "metadata": {}
        },
        {
          "output_type": "display_data",
          "data": {
            "text/plain": [
              "<IPython.core.display.Javascript object>"
            ],
            "application/javascript": [
              "download(\"download_54687aa6-23c1-4cad-8abf-9eee9516add6\", \"events.csv\", 5570)"
            ]
          },
          "metadata": {}
        }
      ]
    }
  ]
}